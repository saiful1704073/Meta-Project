{
  "nbformat": 4,
  "nbformat_minor": 0,
  "metadata": {
    "colab": {
      "provenance": []
    },
    "kernelspec": {
      "name": "python3",
      "display_name": "Python 3"
    },
    "language_info": {
      "name": "python"
    }
  },
  "cells": [
    {
      "cell_type": "code",
      "execution_count": null,
      "metadata": {
        "colab": {
          "base_uri": "https://localhost:8080/"
        },
        "id": "T8sg_FLUuwOR",
        "outputId": "71635225-f145-4cb6-f4f7-3e20da197bc1"
      },
      "outputs": [
        {
          "output_type": "stream",
          "name": "stdout",
          "text": [
            "Requirement already satisfied: scikit-learn in /usr/local/lib/python3.11/dist-packages (1.6.1)\n",
            "Requirement already satisfied: pandas in /usr/local/lib/python3.11/dist-packages (2.2.2)\n",
            "Requirement already satisfied: numpy in /usr/local/lib/python3.11/dist-packages (1.26.4)\n",
            "Requirement already satisfied: scipy>=1.6.0 in /usr/local/lib/python3.11/dist-packages (from scikit-learn) (1.13.1)\n",
            "Requirement already satisfied: joblib>=1.2.0 in /usr/local/lib/python3.11/dist-packages (from scikit-learn) (1.4.2)\n",
            "Requirement already satisfied: threadpoolctl>=3.1.0 in /usr/local/lib/python3.11/dist-packages (from scikit-learn) (3.5.0)\n",
            "Requirement already satisfied: python-dateutil>=2.8.2 in /usr/local/lib/python3.11/dist-packages (from pandas) (2.8.2)\n",
            "Requirement already satisfied: pytz>=2020.1 in /usr/local/lib/python3.11/dist-packages (from pandas) (2025.1)\n",
            "Requirement already satisfied: tzdata>=2022.7 in /usr/local/lib/python3.11/dist-packages (from pandas) (2025.1)\n",
            "Requirement already satisfied: six>=1.5 in /usr/local/lib/python3.11/dist-packages (from python-dateutil>=2.8.2->pandas) (1.17.0)\n"
          ]
        }
      ],
      "source": [
        "!pip install scikit-learn pandas numpy"
      ]
    },
    {
      "cell_type": "code",
      "source": [
        "import pandas as pd\n",
        "import numpy as np\n",
        "from sklearn.preprocessing import LabelEncoder, StandardScaler\n",
        "from sklearn.model_selection import train_test_split\n",
        "\n",
        "# Load the dataset\n",
        "url = \"https://raw.githubusercontent.com/defcom17/NSL_KDD/master/KDDTrain%2B.csv\"\n",
        "column_names = [\n",
        "    \"duration\", \"protocol_type\", \"service\", \"flag\", \"src_bytes\", \"dst_bytes\", \"land\", \"wrong_fragment\", \"urgent\",\n",
        "    \"hot\", \"num_failed_logins\", \"logged_in\", \"num_compromised\", \"root_shell\", \"su_attempted\", \"num_root\", \"num_file_creations\",\n",
        "    \"num_shells\", \"num_access_files\", \"num_outbound_cmds\", \"is_host_login\", \"is_guest_login\", \"count\", \"srv_count\", \"serror_rate\",\n",
        "    \"srv_serror_rate\", \"rerror_rate\", \"srv_rerror_rate\", \"same_srv_rate\", \"diff_srv_rate\", \"srv_diff_host_rate\", \"dst_host_count\",\n",
        "    \"dst_host_srv_count\", \"dst_host_same_srv_rate\", \"dst_host_diff_srv_rate\", \"dst_host_same_src_port_rate\", \"dst_host_srv_diff_host_rate\",\n",
        "    \"dst_host_serror_rate\", \"dst_host_srv_serror_rate\", \"dst_host_rerror_rate\", \"dst_host_srv_rerror_rate\", \"label\"\n",
        "]\n",
        "\n",
        "# Load dataset\n",
        "data = pd.read_csv(url, header=None, names=column_names)\n",
        "\n",
        "# Encode categorical features\n",
        "label_encoder = LabelEncoder()\n",
        "data['protocol_type'] = label_encoder.fit_transform(data['protocol_type'])\n",
        "data['service'] = label_encoder.fit_transform(data['service'])\n",
        "data['flag'] = label_encoder.fit_transform(data['flag'])\n",
        "data['label'] = label_encoder.fit_transform(data['label'])\n",
        "\n",
        "# Separate features and labels\n",
        "X = data.drop(columns=['label'])\n",
        "y = data['label']\n",
        "\n",
        "# Ensure all columns are numeric\n",
        "X = X.apply(pd.to_numeric, errors='coerce')  # Convert non-numeric values to NaN\n",
        "X = X.dropna(axis=1)  # Drop columns with NaN values (if any)\n",
        "\n",
        "# Normalize features\n",
        "scaler = StandardScaler()\n",
        "X = scaler.fit_transform(X)\n",
        "\n",
        "# Split into train and test sets\n",
        "X_train, X_test, y_train, y_test = train_test_split(X, y, test_size=0.3, random_state=42)\n",
        "\n",
        "print(\"Preprocessing completed!\")\n",
        "print(\"Shape of X_train:\", X_train.shape)\n",
        "print(\"Shape of X_test:\", X_test.shape)"
      ],
      "metadata": {
        "colab": {
          "base_uri": "https://localhost:8080/"
        },
        "id": "-H9XIqwFvl36",
        "outputId": "9630e4b0-1332-4fdb-9bdf-f5a38bf31cae"
      },
      "execution_count": null,
      "outputs": [
        {
          "output_type": "stream",
          "name": "stdout",
          "text": [
            "Preprocessing completed!\n",
            "Shape of X_train: (88181, 39)\n",
            "Shape of X_test: (37792, 39)\n"
          ]
        }
      ]
    },
    {
      "cell_type": "code",
      "source": [
        "import random\n",
        "import math\n",
        "\n",
        "class SimulatedAnnealingFeatureSelection:\n",
        "    def __init__(self, initial_temperature=1000, cooling_rate=0.95, max_iterations=100):\n",
        "        self.initial_temperature = initial_temperature\n",
        "        self.cooling_rate = cooling_rate\n",
        "        self.max_iterations = max_iterations\n",
        "\n",
        "    def fit(self, X, y):\n",
        "        n_features = X.shape[1]\n",
        "        current_solution = np.random.choice([0, 1], size=n_features)  # Binary vector (1 = selected, 0 = not selected)\n",
        "        current_score = self._evaluate_solution(X, y, current_solution)\n",
        "\n",
        "        best_solution = current_solution\n",
        "        best_score = current_score\n",
        "\n",
        "        temperature = self.initial_temperature\n",
        "\n",
        "        for iteration in range(self.max_iterations):\n",
        "            # Generate a neighbor solution\n",
        "            neighbor_solution = self._get_neighbor(current_solution)\n",
        "            neighbor_score = self._evaluate_solution(X, y, neighbor_solution)\n",
        "\n",
        "            # Accept the neighbor solution with a probability\n",
        "            if neighbor_score > current_score or random.random() < math.exp((neighbor_score - current_score) / temperature):\n",
        "                current_solution = neighbor_solution\n",
        "                current_score = neighbor_score\n",
        "\n",
        "            # Update the best solution\n",
        "            if current_score > best_score:\n",
        "                best_solution = current_solution\n",
        "                best_score = current_score\n",
        "\n",
        "            # Cool down the temperature\n",
        "            temperature *= self.cooling_rate\n",
        "\n",
        "        self.best_solution = best_solution\n",
        "        self.best_score = best_score\n",
        "\n",
        "    def _get_neighbor(self, solution):\n",
        "        # Flip a random bit in the solution to generate a neighbor\n",
        "        neighbor = solution.copy()\n",
        "        index = random.randint(0, len(neighbor) - 1)\n",
        "        neighbor[index] = 1 - neighbor[index]  # Flip 0 to 1 or 1 to 0\n",
        "        return neighbor\n",
        "\n",
        "    def _evaluate_solution(self, X, y, solution):\n",
        "        # Evaluate the solution using a classifier (e.g., Random Forest)\n",
        "        from sklearn.ensemble import RandomForestClassifier\n",
        "        from sklearn.metrics import accuracy_score\n",
        "\n",
        "        selected_features = np.where(solution == 1)[0]\n",
        "        if len(selected_features) == 0:\n",
        "            return 0  # No features selected\n",
        "\n",
        "        model = RandomForestClassifier(n_estimators=10, random_state=42)\n",
        "        model.fit(X[:, selected_features], y)\n",
        "        y_pred = model.predict(X[:, selected_features])\n",
        "        return accuracy_score(y, y_pred)\n",
        "\n",
        "    def get_selected_features(self):\n",
        "        return np.where(self.best_solution == 1)[0]\n",
        "\n",
        "# Run Simulated Annealing\n",
        "sa = SimulatedAnnealingFeatureSelection(initial_temperature=1000, cooling_rate=0.95, max_iterations=100)\n",
        "sa.fit(X_train, y_train)\n",
        "selected_features = sa.get_selected_features()\n",
        "print(\"Selected Features:\", selected_features)"
      ],
      "metadata": {
        "colab": {
          "base_uri": "https://localhost:8080/"
        },
        "id": "aIdSy2z_wVRk",
        "outputId": "60ea0318-2d49-48a1-e548-5a3f35633e95"
      },
      "execution_count": null,
      "outputs": [
        {
          "output_type": "stream",
          "name": "stdout",
          "text": [
            "Selected Features: [ 0  2  3  4  7  8 10 14 16 18 21 22 23 24 26 27 28 29 31 32 33 34 36 37]\n"
          ]
        }
      ]
    },
    {
      "cell_type": "code",
      "source": [
        "from sklearn.ensemble import RandomForestClassifier\n",
        "from sklearn.metrics import classification_report, accuracy_score\n",
        "\n",
        "# Train on selected features\n",
        "X_train_selected = X_train[:, selected_features]\n",
        "X_test_selected = X_test[:, selected_features]\n",
        "\n",
        "model = RandomForestClassifier(n_estimators=100, random_state=42)\n",
        "model.fit(X_train_selected, y_train)\n",
        "\n",
        "# Evaluate\n",
        "y_pred = model.predict(X_test_selected)\n",
        "print(\"Accuracy:\", accuracy_score(y_test, y_pred))\n",
        "print(classification_report(y_test, y_pred))"
      ],
      "metadata": {
        "colab": {
          "base_uri": "https://localhost:8080/"
        },
        "id": "nNbhf10FwVN-",
        "outputId": "2175ce6a-f0ea-4a8f-ce2d-40c538e00d5e"
      },
      "execution_count": null,
      "outputs": [
        {
          "output_type": "stream",
          "name": "stdout",
          "text": [
            "Accuracy: 0.8532758255715496\n",
            "              precision    recall  f1-score   support\n",
            "\n",
            "           0       0.90      0.53      0.67        17\n",
            "           1       0.58      0.58      0.58        19\n",
            "           2       0.62      0.47      0.53        17\n",
            "           3       0.69      0.44      0.54        25\n",
            "           4       0.58      0.54      0.56        28\n",
            "           5       0.61      0.42      0.50        26\n",
            "           6       0.34      0.44      0.39        27\n",
            "           7       0.44      0.37      0.41        43\n",
            "           8       0.65      0.35      0.46        37\n",
            "           9       0.62      0.60      0.61        52\n",
            "          10       0.47      0.47      0.47        79\n",
            "          11       0.73      0.73      0.73       212\n",
            "          12       0.64      0.67      0.65       209\n",
            "          13       0.53      0.42      0.47       130\n",
            "          14       0.73      0.64      0.68       225\n",
            "          15       0.69      0.77      0.73      1184\n",
            "          16       0.57      0.53      0.55       742\n",
            "          17       0.69      0.68      0.69       892\n",
            "          18       0.84      0.85      0.84      6194\n",
            "          19       0.62      0.53      0.57      3186\n",
            "          20       0.73      0.80      0.77      5676\n",
            "          21       0.97      0.97      0.97     18772\n",
            "\n",
            "    accuracy                           0.85     37792\n",
            "   macro avg       0.65      0.58      0.61     37792\n",
            "weighted avg       0.85      0.85      0.85     37792\n",
            "\n"
          ]
        }
      ]
    }
  ]
}